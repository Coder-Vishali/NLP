{
 "cells": [
  {
   "cell_type": "code",
   "execution_count": 5,
   "metadata": {},
   "outputs": [],
   "source": [
    "import re\n",
    "import ast\n",
    "import emot\n",
    "import nltk\n",
    "import string\n",
    "import pycountry\n",
    "import numpy as np\n",
    "import pandas as pd\n",
    "from collections import Counter\n",
    "import matplotlib.pyplot as plt\n",
    "from nltk.corpus import stopwords\n",
    "from nltk.tokenize import word_tokenize\n",
    "from nltk.sentiment import SentimentIntensityAnalyzer"
   ]
  },
  {
   "cell_type": "code",
   "execution_count": 6,
   "metadata": {},
   "outputs": [
    {
     "name": "stderr",
     "output_type": "stream",
     "text": [
      "[nltk_data] Downloading package punkt to\n",
      "[nltk_data]     C:\\Users\\91984\\AppData\\Roaming\\nltk_data...\n",
      "[nltk_data]   Package punkt is already up-to-date!\n",
      "[nltk_data] Downloading package stopwords to\n",
      "[nltk_data]     C:\\Users\\91984\\AppData\\Roaming\\nltk_data...\n",
      "[nltk_data]   Package stopwords is already up-to-date!\n"
     ]
    },
    {
     "data": {
      "text/plain": [
       "True"
      ]
     },
     "execution_count": 6,
     "metadata": {},
     "output_type": "execute_result"
    }
   ],
   "source": [
    "nltk.download('punkt')\n",
    "nltk.download('stopwords')"
   ]
  },
  {
   "cell_type": "code",
   "execution_count": 7,
   "metadata": {},
   "outputs": [],
   "source": [
    "def replace_emoji(text):\n",
    "    emot_obj = emot.core.emot()\n",
    "    emotes = emot_obj.emoji(text)\n",
    "    for i in range(len(emotes['value'])):\n",
    "        text = text.replace(emotes['value'][i], emotes['mean'][i])\n",
    "    return text\n",
    "\n",
    "\n",
    "def normalize(text):\n",
    "    link_pattern = r\"https?:\\/\\/(www\\.)?[-a-zA-Z0-9@:%._\\+~#=]{1,256}\\.[a-zA-Z0-9()]{1,6}\\b([-a-zA-Z0-9()@:%_\\+.~#?&//=]*)\"\n",
    "    text = re.sub(link_pattern, '', text)\n",
    "    text = re.sub(r'\\s+', ' ', text).strip()\n",
    "    text = replace_emoji(text)\n",
    "    text = text.replace('\\n',' ')\n",
    "    return text\n"
   ]
  },
  {
   "cell_type": "code",
   "execution_count": 38,
   "metadata": {},
   "outputs": [
    {
     "data": {
      "text/html": [
       "<div>\n",
       "<style scoped>\n",
       "    .dataframe tbody tr th:only-of-type {\n",
       "        vertical-align: middle;\n",
       "    }\n",
       "\n",
       "    .dataframe tbody tr th {\n",
       "        vertical-align: top;\n",
       "    }\n",
       "\n",
       "    .dataframe thead th {\n",
       "        text-align: right;\n",
       "    }\n",
       "</style>\n",
       "<table border=\"1\" class=\"dataframe\">\n",
       "  <thead>\n",
       "    <tr style=\"text-align: right;\">\n",
       "      <th></th>\n",
       "      <th>Data</th>\n",
       "    </tr>\n",
       "  </thead>\n",
       "  <tbody>\n",
       "    <tr>\n",
       "      <th>0</th>\n",
       "      <td>Fantastic job. Clients are very happy with it....</td>\n",
       "    </tr>\n",
       "    <tr>\n",
       "      <th>1</th>\n",
       "      <td>I really liked the comment you made during yes...</td>\n",
       "    </tr>\n",
       "    <tr>\n",
       "      <th>2</th>\n",
       "      <td>I wanted to let you know that I have noticed h...</td>\n",
       "    </tr>\n",
       "    <tr>\n",
       "      <th>3</th>\n",
       "      <td>We have noticed how focused you are lately and...</td>\n",
       "    </tr>\n",
       "    <tr>\n",
       "      <th>4</th>\n",
       "      <td>We just wanted to congratulate you on hitting ...</td>\n",
       "    </tr>\n",
       "    <tr>\n",
       "      <th>5</th>\n",
       "      <td>I have noticed that you have been missing dead...</td>\n",
       "    </tr>\n",
       "    <tr>\n",
       "      <th>6</th>\n",
       "      <td>There are times when your work lacks attention...</td>\n",
       "    </tr>\n",
       "    <tr>\n",
       "      <th>7</th>\n",
       "      <td>Your work quality seems to vary. I believe in ...</td>\n",
       "    </tr>\n",
       "    <tr>\n",
       "      <th>8</th>\n",
       "      <td>I have noticed that you tend to wait for instr...</td>\n",
       "    </tr>\n",
       "    <tr>\n",
       "      <th>9</th>\n",
       "      <td>It appears that your time management needs som...</td>\n",
       "    </tr>\n",
       "    <tr>\n",
       "      <th>10</th>\n",
       "      <td>You did a very worst job. I am completely disa...</td>\n",
       "    </tr>\n",
       "  </tbody>\n",
       "</table>\n",
       "</div>"
      ],
      "text/plain": [
       "                                                 Data\n",
       "0   Fantastic job. Clients are very happy with it....\n",
       "1   I really liked the comment you made during yes...\n",
       "2   I wanted to let you know that I have noticed h...\n",
       "3   We have noticed how focused you are lately and...\n",
       "4   We just wanted to congratulate you on hitting ...\n",
       "5   I have noticed that you have been missing dead...\n",
       "6   There are times when your work lacks attention...\n",
       "7   Your work quality seems to vary. I believe in ...\n",
       "8   I have noticed that you tend to wait for instr...\n",
       "9   It appears that your time management needs som...\n",
       "10  You did a very worst job. I am completely disa..."
      ]
     },
     "execution_count": 38,
     "metadata": {},
     "output_type": "execute_result"
    }
   ],
   "source": [
    "d1 = pd.read_csv(\"feedback.csv\", engine='python')\n",
    "d1"
   ]
  },
  {
   "attachments": {
    "image.png": {
     "image/png": "[encoded data removed]"
    }
   },
   "cell_type": "markdown",
   "metadata": {},
   "source": [
    "![image.png](attachment:image.png)"
   ]
  },
  {
   "cell_type": "code",
   "execution_count": 46,
   "metadata": {},
   "outputs": [
    {
     "name": "stdout",
     "output_type": "stream",
     "text": [
      "\n",
      "Normalized text: Fantastic job. Clients are very happy with it. Congratulations!\n",
      "Sentiment_score: {'neg': 0.0, 'neu': 0.337, 'pos': 0.663, 'compound': 0.915}\n",
      "Label: pos\n",
      "\n",
      "Normalized text: I really liked the comment you made during yesterday team meeting. It was a great contribution to the discussion. Your positive attitude is felt throughout the department!\n",
      "Sentiment_score: {'neg': 0.0, 'neu': 0.665, 'pos': 0.335, 'compound': 0.9019}\n",
      "Label: neu\n",
      "\n",
      "Normalized text: I wanted to let you know that I have noticed how much you have developed your python. I know it can be challenging to overcome or master python but we can feel your drive to succeed.\n",
      "Sentiment_score: {'neg': 0.0, 'neu': 0.847, 'pos': 0.153, 'compound': 0.6808}\n",
      "Label: neu\n",
      "\n",
      "Normalized text: We have noticed how focused you are lately and how well you manage your time. You are producing tremendous work; keep it up!\n",
      "Sentiment_score: {'neg': 0.0, 'neu': 0.808, 'pos': 0.192, 'compound': 0.6114}\n",
      "Label: neu\n",
      "\n",
      "Normalized text: We just wanted to congratulate you on hitting your first-year work anniversary! We are lucky to have had you on the team for the last 12 months.\n",
      "Sentiment_score: {'neg': 0.0, 'neu': 0.799, 'pos': 0.201, 'compound': 0.7424}\n",
      "Label: neu\n",
      "\n",
      "Normalized text: I have noticed that you have been missing deadlines. It affects our overall productivity and I believe that you can do better. To improve let's work on setting more realistic schedules and sticking to them.\n",
      "Sentiment_score: {'neg': 0.058, 'neu': 0.789, 'pos': 0.153, 'compound': 0.5574}\n",
      "Label: neu\n",
      "\n",
      "Normalized text: There are times when your work lacks attention to detail. To get better I appreciate it if you could review your tasks more thoroughly for errors before you submit them\n",
      "Sentiment_score: {'neg': 0.085, 'neu': 0.753, 'pos': 0.162, 'compound': 0.3935}\n",
      "Label: neu\n",
      "\n",
      "Normalized text: Your work quality seems to vary. I believe in your potential and I like to see you aim for consistency by maintaining high standards in all tasks\n",
      "Sentiment_score: {'neg': 0.0, 'neu': 0.906, 'pos': 0.094, 'compound': 0.3612}\n",
      "Label: neu\n",
      "\n",
      "Normalized text: I have noticed that you tend to wait for instructions rather than taking the initiative. To grow in your role let's work on initiating tasks on your own and identifying areas that need attention\n",
      "Sentiment_score: {'neg': 0.0, 'neu': 1.0, 'pos': 0.0, 'compound': 0.0}\n",
      "Label: neu\n",
      "\n",
      "Normalized text: It appears that your time management needs some improvement. I believe you can do better by trying a time tracking system to meet deadlines more consistently.\n",
      "Sentiment_score: {'neg': 0.0, 'neu': 0.789, 'pos': 0.211, 'compound': 0.7096}\n",
      "Label: neu\n",
      "\n",
      "Normalized text: You did a very worst job. I am completely disappointed.\n",
      "Sentiment_score: {'neg': 0.565, 'neu': 0.435, 'pos': 0.0, 'compound': -0.831}\n",
      "Label: neg\n"
     ]
    }
   ],
   "source": [
    "analyzer = SentimentIntensityAnalyzer()\n",
    "\n",
    "# Define a dictionary to map the sentiment scores to emotions\n",
    "emotion_dict = {'angry':0,\n",
    "               'upset': 0,\n",
    "               'netural':0,\n",
    "               'curious':0,\n",
    "               'happy':0}\n",
    "\n",
    "all_scores = []\n",
    "label_list = []\n",
    "# Loop through each text and determine the emotion\n",
    "for text in d1['Data']:\n",
    "    # Get the sentiment score for the text\n",
    "    text = normalize(text)\n",
    "    print(f\"\\nNormalized text: {text}\")\n",
    "    sentiment_score = analyzer.polarity_scores(normalize(text))\n",
    "    print(f\"Sentiment_score: {sentiment_score}\")\n",
    "\n",
    "    all_scores.append(sentiment_score)\n",
    "    \n",
    "    senti_scores = sentiment_score.copy()\n",
    "    senti_scores.pop('compound')\n",
    "    \n",
    "    Keymax = max(zip(senti_scores.values(), senti_scores.keys()))[1]\n",
    "    print(f\"Label: {Keymax}\")\n",
    "    \n",
    "    # Appending the label into a list\n",
    "    label_list.append(Keymax)\n",
    "    \n",
    "    # Determine the emotion based on the sentiment score\n",
    "    \n",
    "    if sentiment_score['neg'] > sentiment_score['pos']:\n",
    "        if sentiment_score['neg'] > sentiment_score['neu']:\n",
    "            emotion_dict['angry'] += 1\n",
    "        else:\n",
    "            emotion_dict['upset'] += 1\n",
    "            \n",
    "            \n",
    "    elif sentiment_score['pos'] > sentiment_score['neg']:\n",
    "        if sentiment_score['pos'] > sentiment_score['neu']:\n",
    "            emotion_dict['happy'] += 1\n",
    "        else:\n",
    "            emotion_dict['curious'] += 1\n",
    "            \n",
    "            \n",
    "    else:\n",
    "        if sentiment_score['neu'] > 0.5:\n",
    "            emotion_dict['netural'] += 1"
   ]
  },
  {
   "cell_type": "code",
   "execution_count": 47,
   "metadata": {},
   "outputs": [
    {
     "data": {
      "text/html": [
       "<div>\n",
       "<style scoped>\n",
       "    .dataframe tbody tr th:only-of-type {\n",
       "        vertical-align: middle;\n",
       "    }\n",
       "\n",
       "    .dataframe tbody tr th {\n",
       "        vertical-align: top;\n",
       "    }\n",
       "\n",
       "    .dataframe thead th {\n",
       "        text-align: right;\n",
       "    }\n",
       "</style>\n",
       "<table border=\"1\" class=\"dataframe\">\n",
       "  <thead>\n",
       "    <tr style=\"text-align: right;\">\n",
       "      <th></th>\n",
       "      <th>Data</th>\n",
       "      <th>Labels</th>\n",
       "    </tr>\n",
       "  </thead>\n",
       "  <tbody>\n",
       "    <tr>\n",
       "      <th>0</th>\n",
       "      <td>Fantastic job. Clients are very happy with it....</td>\n",
       "      <td>pos</td>\n",
       "    </tr>\n",
       "    <tr>\n",
       "      <th>1</th>\n",
       "      <td>I really liked the comment you made during yes...</td>\n",
       "      <td>neu</td>\n",
       "    </tr>\n",
       "    <tr>\n",
       "      <th>2</th>\n",
       "      <td>I wanted to let you know that I have noticed h...</td>\n",
       "      <td>neu</td>\n",
       "    </tr>\n",
       "    <tr>\n",
       "      <th>3</th>\n",
       "      <td>We have noticed how focused you are lately and...</td>\n",
       "      <td>neu</td>\n",
       "    </tr>\n",
       "    <tr>\n",
       "      <th>4</th>\n",
       "      <td>We just wanted to congratulate you on hitting ...</td>\n",
       "      <td>neu</td>\n",
       "    </tr>\n",
       "    <tr>\n",
       "      <th>5</th>\n",
       "      <td>I have noticed that you have been missing dead...</td>\n",
       "      <td>neu</td>\n",
       "    </tr>\n",
       "    <tr>\n",
       "      <th>6</th>\n",
       "      <td>There are times when your work lacks attention...</td>\n",
       "      <td>neu</td>\n",
       "    </tr>\n",
       "    <tr>\n",
       "      <th>7</th>\n",
       "      <td>Your work quality seems to vary. I believe in ...</td>\n",
       "      <td>neu</td>\n",
       "    </tr>\n",
       "    <tr>\n",
       "      <th>8</th>\n",
       "      <td>I have noticed that you tend to wait for instr...</td>\n",
       "      <td>neu</td>\n",
       "    </tr>\n",
       "    <tr>\n",
       "      <th>9</th>\n",
       "      <td>It appears that your time management needs som...</td>\n",
       "      <td>neu</td>\n",
       "    </tr>\n",
       "    <tr>\n",
       "      <th>10</th>\n",
       "      <td>You did a very worst job. I am completely disa...</td>\n",
       "      <td>neg</td>\n",
       "    </tr>\n",
       "  </tbody>\n",
       "</table>\n",
       "</div>"
      ],
      "text/plain": [
       "                                                 Data Labels\n",
       "0   Fantastic job. Clients are very happy with it....    pos\n",
       "1   I really liked the comment you made during yes...    neu\n",
       "2   I wanted to let you know that I have noticed h...    neu\n",
       "3   We have noticed how focused you are lately and...    neu\n",
       "4   We just wanted to congratulate you on hitting ...    neu\n",
       "5   I have noticed that you have been missing dead...    neu\n",
       "6   There are times when your work lacks attention...    neu\n",
       "7   Your work quality seems to vary. I believe in ...    neu\n",
       "8   I have noticed that you tend to wait for instr...    neu\n",
       "9   It appears that your time management needs som...    neu\n",
       "10  You did a very worst job. I am completely disa...    neg"
      ]
     },
     "execution_count": 47,
     "metadata": {},
     "output_type": "execute_result"
    }
   ],
   "source": [
    "d1['Labels'] = label_list\n",
    "d1"
   ]
  },
  {
   "cell_type": "code",
   "execution_count": 48,
   "metadata": {},
   "outputs": [
    {
     "data": {
      "text/plain": [
       "{'angry': 1, 'upset': 0, 'netural': 1, 'curious': 8, 'happy': 1}"
      ]
     },
     "execution_count": 48,
     "metadata": {},
     "output_type": "execute_result"
    }
   ],
   "source": [
    "emotion_dict"
   ]
  },
  {
   "cell_type": "code",
   "execution_count": 49,
   "metadata": {},
   "outputs": [
    {
     "name": "stdout",
     "output_type": "stream",
     "text": [
      "angry: 1\n",
      "upset: 0\n",
      "netural: 1\n",
      "curious: 8\n",
      "happy: 1\n"
     ]
    }
   ],
   "source": [
    "# Print the count of each emotion\n",
    "for emotion, count in emotion_dict.items():\n",
    "    print(f\"{emotion}: {count}\")"
   ]
  },
  {
   "cell_type": "code",
   "execution_count": 50,
   "metadata": {},
   "outputs": [
    {
     "data": {
      "image/png": "[encoded data removed]",
      "text/plain": [
       "<Figure size 640x480 with 1 Axes>"
      ]
     },
     "metadata": {},
     "output_type": "display_data"
    }
   ],
   "source": [
    "compound_scores = []\n",
    "for tweet_scores in all_scores:\n",
    "    compound_scores.append(tweet_scores['compound'])\n",
    "    \n",
    "scores = np.array(compound_scores)\n",
    "\n",
    "x = np.array(['Positive', 'Netural', 'Negative'])\n",
    "y = np.array([np.sum(scores > 0), np.sum(scores == 0), np.sum(scores < 0)])\n",
    "\n",
    "# Create bar chart\n",
    "plt.bar(x, y)\n",
    "\n",
    "# Add labels and title\n",
    "plt.xlabel('Categories')\n",
    "plt.ylabel('Values')\n",
    "plt.title('Bar chart example')\n",
    "\n",
    "# Show chart\n",
    "plt.show()"
   ]
  },
  {
   "cell_type": "code",
   "execution_count": 51,
   "metadata": {},
   "outputs": [
    {
     "data": {
      "image/png": "[encoded data removed]",
      "text/plain": [
       "<Figure size 640x480 with 1 Axes>"
      ]
     },
     "metadata": {},
     "output_type": "display_data"
    }
   ],
   "source": [
    "compound_scores = []\n",
    "for tweet_scores in all_scores:\n",
    "    compound_scores.append(tweet_scores['compound'])\n",
    "    \n",
    "scores = np.array(compound_scores)\n",
    "\n",
    "x = np.array([emotion for emotion in emotion_dict.keys()])\n",
    "y = np.array([emotion[1] for emotion in emotion_dict.items()])\n",
    "\n",
    "# Create bar chart\n",
    "plt.bar(x, y)\n",
    "\n",
    "# Write the number of each bar above it\n",
    "for i, v in enumerate(y):\n",
    "    plt.text(i, v + 0.2, str(v), ha='center')\n",
    "\n",
    "# Add labels and title\n",
    "plt.xlabel('Emotions categories', fontweight=\"bold\", color=\"red\")\n",
    "plt.ylabel('Values', fontweight=\"bold\", color=\"red\")\n",
    "plt.title('Bar Chart Based on Emotions', fontweight=\"bold\", color=\"red\")\n",
    "\n",
    "# Show chart\n",
    "plt.show()\n"
   ]
  },
  {
   "cell_type": "markdown",
   "metadata": {},
   "source": [
    "Reference: \n",
    "\n",
    "https://github.com/hosseinhimself/Missing-Baby/tree/main"
   ]
  }
 ],
 "metadata": {
  "kernelspec": {
   "display_name": "Python 3 (ipykernel)",
   "language": "python",
   "name": "python3"
  },
  "language_info": {
   "codemirror_mode": {
    "name": "ipython",
    "version": 3
   },
   "file_extension": ".py",
   "mimetype": "text/x-python",
   "name": "python",
   "nbconvert_exporter": "python",
   "pygments_lexer": "ipython3",
   "version": "3.9.11"
  }
 },
 "nbformat": 4,
 "nbformat_minor": 1
}
